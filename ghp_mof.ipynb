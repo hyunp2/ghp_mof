{
  "cells": [
    {
      "attachments": {},
      "cell_type": "markdown",
      "metadata": {
        "id": "r77hUsf6w1o4"
      },
      "source": [
        "## Install necessary packages"
      ]
    },
    {
      "cell_type": "code",
      "execution_count": 1,
      "metadata": {
        "colab": {
          "base_uri": "https://localhost:8080/",
          "height": 172
        },
        "id": "6nt3ZtFRp7RN",
        "outputId": "7f719015-84ff-4e9a-eb5e-79762aefa12e"
      },
      "outputs": [
        {
          "name": "stdout",
          "output_type": "stream",
          "text": [
            "⏬ Downloading https://github.com/conda-forge/miniforge/releases/download/23.1.0-1/Mambaforge-23.1.0-1-Linux-x86_64.sh...\n",
            "📦 Installing...\n",
            "📌 Adjusting configuration...\n",
            "🩹 Patching environment...\n",
            "⏲ Done in 0:00:13\n",
            "🔁 Restarting kernel...\n",
            "conda 23.1.0\n"
          ]
        },
        {
          "data": {
            "application/vnd.google.colaboratory.intrinsic+json": {
              "type": "string"
            },
            "text/plain": [
              "'2.0.1+cu118'"
            ]
          },
          "execution_count": 1,
          "metadata": {},
          "output_type": "execute_result"
        }
      ],
      "source": [
        "!pip install -q condacolab\n",
        "import condacolab\n",
        "condacolab.install()\n",
        "exit()\n",
        "import torch\n",
        "!pip uninstall torch -y\n",
        "!conda install -c conda-forge pymatgen rdkit openbabel -y\n",
        "!pip install torch==1.13.1+cu117 --extra-index-url https://download.pytorch.org/whl/cu117\n",
        "!pip install pyg_lib torch_scatter torch_sparse torch_cluster torch_spline_conv -f https://data.pyg.org/whl/torch-1.13.0+cu117.html\n",
        "!pip install torch_geometric\n",
        "exit()\n",
        "!pip install torchmetrics tqdm transformers wandb apex curtsies fairscale imageio joblib Pillow pytorch_lightning PyYAML ray scikit-learn ipykernel docopt\n",
        "!pip install git+https://github.com/tensorflow/docs"
      ]
    },
    {
      "attachments": {},
      "cell_type": "markdown",
      "metadata": {
        "id": "UgbJZi7zw9lN"
      },
      "source": [
        "## Clone GHP-MOFAssembly Github repository"
      ]
    },
    {
      "cell_type": "code",
      "execution_count": null,
      "metadata": {
        "id": "rXryDXmgrIKb"
      },
      "outputs": [],
      "source": [
        "!git clone https://github.com/hyunp2/ghp_mof.git"
      ]
    },
    {
      "attachments": {},
      "cell_type": "markdown",
      "metadata": {
        "id": "_Qw3zKgnxTN4"
      },
      "source": [
        "## Generate new MOF structures\n",
        "In this example, we generate a total of 4000 Cu paddlewheel MOFs at four catenation levels (cat0/cat1/cat2/cat3 1000 each)"
      ]
    },
    {
      "cell_type": "code",
      "execution_count": 39,
      "metadata": {
        "colab": {
          "base_uri": "https://localhost:8080/"
        },
        "id": "bbs6gFThxGvs",
        "outputId": "6f2cec16-3990-46f6-f589-1db88a3d267c"
      },
      "outputs": [
        {
          "name": "stdout",
          "output_type": "stream",
          "text": [
            "Step 8 - Removing structures that cannot be read by pymatgen\n",
            "------------------------------------------------------------\n",
            "Number of CPUs: 1\n",
            "/usr/local/lib/python3.10/site-packages/pymatgen/io/cif.py:1134: UserWarning: Issues encountered while parsing CIF: Some fractional coordinates rounded to ideal values to avoid issues with finite precision.\n",
            "  warnings.warn(\"Issues encountered while parsing CIF: \" + \"\\n\".join(self.warnings))\n",
            "Step 9 - Preparing necessarly files for making predictions\n",
            "----------------------------------------------------------\n",
            "copied atom_init.json ...\n",
            "generated id_prop.csv ...\n"
          ]
        }
      ],
      "source": [
        "!cd ghp_mof && bash generate_mofs.sh"
      ]
    },
    {
      "attachments": {},
      "cell_type": "markdown",
      "metadata": {
        "id": "3sLma37uGjc3"
      },
      "source": [
        "## Predict the CO2 capacities of generated MOF structures using the modified version of CGCNN model"
      ]
    },
    {
      "cell_type": "code",
      "execution_count": null,
      "metadata": {
        "colab": {
          "base_uri": "https://localhost:8080/"
        },
        "id": "4bH6zenFs5kn",
        "outputId": "1beace9b-79b9-4ab3-d4b9-dcb9ba9db4f8"
      },
      "outputs": [
        {
          "name": "stdout",
          "output_type": "stream",
          "text": [
            "\u001b[43mTruncate_above is False...\u001b[49m\n",
            "0-th core is parsed!\n",
            "Root dir chosen is MOFs/MOFs_all\n",
            "\u001b[43mTruncate_above is False...\u001b[49m\n",
            "mean None std None\n",
            "Loaded a model from rank 0!\n",
            "Loaded a model from rank 0!\n",
            "Loaded a model from rank 0!\n"
          ]
        }
      ],
      "source": [
        "!cd ghp_mof && python -m main \\\n",
        "--which_mode infer \\\n",
        "--dataset cifdata \\\n",
        "--backbone cgcnn \\\n",
        "--batch_size 2 \\\n",
        "--load_ckpt_path models \\\n",
        "--name cgcnn_pub_hmof_0.1 \\\n",
        "--gpu \\\n",
        "--train_frac 1 \\\n",
        "--data_dir_crystal MOFs/MOFs_all \\\n",
        "--ensemble_names cgcnn_pub_hmof_0.1 cgcnn_pub_hmof_0.1_dgx cgcnn_pub_hmof_0.1_v2"
      ]
    },
    {
      "cell_type": "code",
      "execution_count": 43,
      "metadata": {
        "colab": {
          "base_uri": "https://localhost:8080/",
          "height": 160
        },
        "id": "A_Kpn7Wys7M-",
        "outputId": "cdf62201-ce87-4ca6-9bb8-f43f8f1edc41"
      },
      "outputs": [
        {
          "data": {
            "text/html": [
              "\n",
              "  <div id=\"df-2cf58b23-deec-4ba9-80dc-0fe53ce3bd42\">\n",
              "    <div class=\"colab-df-container\">\n",
              "      <div>\n",
              "<style scoped>\n",
              "    .dataframe tbody tr th:only-of-type {\n",
              "        vertical-align: middle;\n",
              "    }\n",
              "\n",
              "    .dataframe tbody tr th {\n",
              "        vertical-align: top;\n",
              "    }\n",
              "\n",
              "    .dataframe thead th {\n",
              "        text-align: right;\n",
              "    }\n",
              "</style>\n",
              "<table border=\"1\" class=\"dataframe\">\n",
              "  <thead>\n",
              "    <tr style=\"text-align: right;\">\n",
              "      <th></th>\n",
              "      <th>name</th>\n",
              "      <th>pred</th>\n",
              "      <th>std</th>\n",
              "      <th>real</th>\n",
              "    </tr>\n",
              "  </thead>\n",
              "  <tbody>\n",
              "    <tr>\n",
              "      <th>0</th>\n",
              "      <td>hMOF-1.cif</td>\n",
              "      <td>1.703976</td>\n",
              "      <td>0.242664</td>\n",
              "      <td>1.806490</td>\n",
              "    </tr>\n",
              "    <tr>\n",
              "      <th>1</th>\n",
              "      <td>hMOF-2.cif</td>\n",
              "      <td>1.058071</td>\n",
              "      <td>0.309409</td>\n",
              "      <td>0.854371</td>\n",
              "    </tr>\n",
              "    <tr>\n",
              "      <th>2</th>\n",
              "      <td>hMOF-0.cif</td>\n",
              "      <td>0.208278</td>\n",
              "      <td>0.009849</td>\n",
              "      <td>0.225851</td>\n",
              "    </tr>\n",
              "  </tbody>\n",
              "</table>\n",
              "</div>\n",
              "      <button class=\"colab-df-convert\" onclick=\"convertToInteractive('df-2cf58b23-deec-4ba9-80dc-0fe53ce3bd42')\"\n",
              "              title=\"Convert this dataframe to an interactive table.\"\n",
              "              style=\"display:none;\">\n",
              "        \n",
              "  <svg xmlns=\"http://www.w3.org/2000/svg\" height=\"24px\"viewBox=\"0 0 24 24\"\n",
              "       width=\"24px\">\n",
              "    <path d=\"M0 0h24v24H0V0z\" fill=\"none\"/>\n",
              "    <path d=\"M18.56 5.44l.94 2.06.94-2.06 2.06-.94-2.06-.94-.94-2.06-.94 2.06-2.06.94zm-11 1L8.5 8.5l.94-2.06 2.06-.94-2.06-.94L8.5 2.5l-.94 2.06-2.06.94zm10 10l.94 2.06.94-2.06 2.06-.94-2.06-.94-.94-2.06-.94 2.06-2.06.94z\"/><path d=\"M17.41 7.96l-1.37-1.37c-.4-.4-.92-.59-1.43-.59-.52 0-1.04.2-1.43.59L10.3 9.45l-7.72 7.72c-.78.78-.78 2.05 0 2.83L4 21.41c.39.39.9.59 1.41.59.51 0 1.02-.2 1.41-.59l7.78-7.78 2.81-2.81c.8-.78.8-2.07 0-2.86zM5.41 20L4 18.59l7.72-7.72 1.47 1.35L5.41 20z\"/>\n",
              "  </svg>\n",
              "      </button>\n",
              "      \n",
              "  <style>\n",
              "    .colab-df-container {\n",
              "      display:flex;\n",
              "      flex-wrap:wrap;\n",
              "      gap: 12px;\n",
              "    }\n",
              "\n",
              "    .colab-df-convert {\n",
              "      background-color: #E8F0FE;\n",
              "      border: none;\n",
              "      border-radius: 50%;\n",
              "      cursor: pointer;\n",
              "      display: none;\n",
              "      fill: #1967D2;\n",
              "      height: 32px;\n",
              "      padding: 0 0 0 0;\n",
              "      width: 32px;\n",
              "    }\n",
              "\n",
              "    .colab-df-convert:hover {\n",
              "      background-color: #E2EBFA;\n",
              "      box-shadow: 0px 1px 2px rgba(60, 64, 67, 0.3), 0px 1px 3px 1px rgba(60, 64, 67, 0.15);\n",
              "      fill: #174EA6;\n",
              "    }\n",
              "\n",
              "    [theme=dark] .colab-df-convert {\n",
              "      background-color: #3B4455;\n",
              "      fill: #D2E3FC;\n",
              "    }\n",
              "\n",
              "    [theme=dark] .colab-df-convert:hover {\n",
              "      background-color: #434B5C;\n",
              "      box-shadow: 0px 1px 3px 1px rgba(0, 0, 0, 0.15);\n",
              "      filter: drop-shadow(0px 1px 2px rgba(0, 0, 0, 0.3));\n",
              "      fill: #FFFFFF;\n",
              "    }\n",
              "  </style>\n",
              "\n",
              "      <script>\n",
              "        const buttonEl =\n",
              "          document.querySelector('#df-2cf58b23-deec-4ba9-80dc-0fe53ce3bd42 button.colab-df-convert');\n",
              "        buttonEl.style.display =\n",
              "          google.colab.kernel.accessAllowed ? 'block' : 'none';\n",
              "\n",
              "        async function convertToInteractive(key) {\n",
              "          const element = document.querySelector('#df-2cf58b23-deec-4ba9-80dc-0fe53ce3bd42');\n",
              "          const dataTable =\n",
              "            await google.colab.kernel.invokeFunction('convertToInteractive',\n",
              "                                                     [key], {});\n",
              "          if (!dataTable) return;\n",
              "\n",
              "          const docLinkHtml = 'Like what you see? Visit the ' +\n",
              "            '<a target=\"_blank\" href=https://colab.research.google.com/notebooks/data_table.ipynb>data table notebook</a>'\n",
              "            + ' to learn more about interactive tables.';\n",
              "          element.innerHTML = '';\n",
              "          dataTable['output_type'] = 'display_data';\n",
              "          await google.colab.output.renderOutput(dataTable, element);\n",
              "          const docLink = document.createElement('div');\n",
              "          docLink.innerHTML = docLinkHtml;\n",
              "          element.appendChild(docLink);\n",
              "        }\n",
              "      </script>\n",
              "    </div>\n",
              "  </div>\n",
              "  "
            ],
            "text/plain": [
              "         name      pred       std      real\n",
              "0  hMOF-1.cif  1.703976  0.242664  1.806490\n",
              "1  hMOF-2.cif  1.058071  0.309409  0.854371\n",
              "2  hMOF-0.cif  0.208278  0.009849  0.225851"
            ]
          },
          "execution_count": 43,
          "metadata": {},
          "output_type": "execute_result"
        }
      ],
      "source": [
        "# model predictions\n",
        "import pandas as pd\n",
        "pd.read_csv(\"ghp_mof/publication_figures/ensemble_property_prediction.csv\", index_col=0)"
      ]
    },
    {
      "attachments": {},
      "cell_type": "markdown",
      "metadata": {
        "id": "lu0Z5qB_GJrG"
      },
      "source": [
        "### Optional: Visualization of linker generation process using DiffLinker"
      ]
    },
    {
      "cell_type": "code",
      "execution_count": 4,
      "metadata": {
        "colab": {
          "base_uri": "https://localhost:8080/"
        },
        "id": "rooMmSAys9FZ",
        "outputId": "353270b2-6d45-4b68-81d2-78ccbad923ad"
      },
      "outputs": [
        {
          "name": "stdout",
          "output_type": "stream",
          "text": [
            "Already up to date.\n",
            "Will generate linkers with sampled numbers of atoms\n",
            "Lightning automatically upgraded your loaded checkpoint from v1.6.3 to v2.0.3. To apply the upgrade to your files permanently, run `python -m pytorch_lightning.utilities.upgrade_checkpoint --file checkpoints/geom_size_gnn.ckpt`\n",
            "Lightning automatically upgraded your loaded checkpoint from v1.6.3 to v2.0.3. To apply the upgrade to your files permanently, run `python -m pytorch_lightning.utilities.upgrade_checkpoint --file checkpoints/geom_difflinker.ckpt`\n",
            "  0% 0/1 [00:00<?, ?it/s]Sampling only the FINAL output...\n",
            "Saved generated molecules in .xyz and .sdf format in directory geom/output\n",
            "Sampling ALL trajectories...\n",
            "torch.Size([5, 32, 9]) torch.Size([5, 32, 9])\n",
            "Out of 5 molecules, 0 are stable per B.O. analysis!\n",
            "Saved generated molecules with B.O in .sdf format in directory geom/output and animation in geom/samples\n",
            "100% 1/1 [02:22<00:00, 142.14s/it]\n"
          ]
        }
      ],
      "source": [
        "# sample difflinker\n",
        "!cd ghp_mof/DiffLinker && git pull && python -W ignore difflinker_sample_and_analyze.py \\\n",
        "--fragments geom/datasets/geom_multifrag_test_frag.sdf \\\n",
        "--model checkpoints/geom_difflinker.ckpt \\\n",
        "--linker_size checkpoints/geom_size_gnn.ckpt \\\n",
        "--output geom/output \\\n",
        "--samples_dir geom/samples"
      ]
    },
    {
      "cell_type": "code",
      "execution_count": 5,
      "metadata": {
        "colab": {
          "base_uri": "https://localhost:8080/",
          "height": 265
        },
        "id": "CaZdaycus-ou",
        "outputId": "152280f6-55f0-44f0-f446-788fe7d69576"
      },
      "outputs": [
        {
          "name": "stdout",
          "output_type": "stream",
          "text": [
            "ghp_mof/DiffLinker/geom/samples/mol_4/output.gif\n"
          ]
        },
        {
          "ename": "NameError",
          "evalue": "ignored",
          "output_type": "error",
          "traceback": [
            "\u001b[0;31m---------------------------------------------------------------------------\u001b[0m",
            "\u001b[0;31mNameError\u001b[0m                                 Traceback (most recent call last)",
            "\u001b[0;32m<ipython-input-5-ace3b4589299>\u001b[0m in \u001b[0;36m<cell line: 12>\u001b[0;34m()\u001b[0m\n\u001b[1;32m     15\u001b[0m     \u001b[0mprint\u001b[0m\u001b[0;34m(\u001b[0m\u001b[0mgif_path\u001b[0m\u001b[0;34m)\u001b[0m\u001b[0;34m\u001b[0m\u001b[0;34m\u001b[0m\u001b[0m\n\u001b[1;32m     16\u001b[0m     \u001b[0mb64\u001b[0m \u001b[0;34m=\u001b[0m \u001b[0mbase64\u001b[0m\u001b[0;34m.\u001b[0m\u001b[0mb64encode\u001b[0m\u001b[0;34m(\u001b[0m\u001b[0mopen\u001b[0m\u001b[0;34m(\u001b[0m\u001b[0mgif_path\u001b[0m\u001b[0;34m,\u001b[0m\u001b[0;34m'rb'\u001b[0m\u001b[0;34m)\u001b[0m\u001b[0;34m.\u001b[0m\u001b[0mread\u001b[0m\u001b[0;34m(\u001b[0m\u001b[0;34m)\u001b[0m\u001b[0;34m)\u001b[0m\u001b[0;34m.\u001b[0m\u001b[0mdecode\u001b[0m\u001b[0;34m(\u001b[0m\u001b[0;34m'ascii'\u001b[0m\u001b[0;34m)\u001b[0m\u001b[0;34m\u001b[0m\u001b[0;34m\u001b[0m\u001b[0m\n\u001b[0;32m---> 17\u001b[0;31m     \u001b[0mdisplay\u001b[0m\u001b[0;34m(\u001b[0m\u001b[0mHTML\u001b[0m\u001b[0;34m(\u001b[0m\u001b[0;34mf'<img src=\"data:image/gif;base64,{b64}\" />'\u001b[0m\u001b[0;34m)\u001b[0m\u001b[0;34m)\u001b[0m\u001b[0;34m\u001b[0m\u001b[0;34m\u001b[0m\u001b[0m\n\u001b[0m\u001b[1;32m     18\u001b[0m \u001b[0;34m\u001b[0m\u001b[0m\n\u001b[1;32m     19\u001b[0m     \u001b[0mxyz\u001b[0m \u001b[0;34m=\u001b[0m \u001b[0;34m\"output_\"\u001b[0m \u001b[0;34m+\u001b[0m \u001b[0mstr\u001b[0m\u001b[0;34m(\u001b[0m\u001b[0mmol_id\u001b[0m\u001b[0;34m)\u001b[0m \u001b[0;34m+\u001b[0m \u001b[0;34m\"_geom_multifrag_test_frag_.xyz\"\u001b[0m\u001b[0;34m\u001b[0m\u001b[0;34m\u001b[0m\u001b[0m\n",
            "\u001b[0;31mNameError\u001b[0m: name 'HTML' is not defined"
          ]
        }
      ],
      "source": [
        "import os, base64, tempfile\n",
        "from openbabel.pybel import readfile\n",
        "from rdkit import Chem\n",
        "from rdkit.Chem import Draw\n",
        "from rdkit.Chem.Draw import IPythonConsole\n",
        "IPythonConsole.ipython_useSVG=True\n",
        "\n",
        "workdir = \"ghp_mof/DiffLinker\"\n",
        "samples_dir = os.path.join(workdir, \"geom/samples\")\n",
        "output_dir = os.path.join(workdir, \"geom/output\")\n",
        "mol_ids = [int(x.replace(\"mol_\", \"\")) for x in os.listdir(samples_dir) if os.path.isdir(os.path.join(samples_dir, x))]\n",
        "for mol_id in mol_ids:\n",
        "    mol = \"mol_\" + str(mol_id)\n",
        "    gif_path = os.path.join(samples_dir, mol, \"output.gif\")\n",
        "    print(gif_path)\n",
        "    b64 = base64.b64encode(open(gif_path,'rb').read()).decode('ascii')\n",
        "    display(HTML(f'<img src=\"data:image/gif;base64,{b64}\" />'))\n",
        "\n",
        "    xyz = \"output_\" + str(mol_id) + \"_geom_multifrag_test_frag_.xyz\"\n",
        "    print(os.path.join(output_dir, xyz))\n",
        "    mol = list(readfile(\"xyz\", os.path.join(output_dir, xyz)))[-1]\n",
        "\n",
        "    mol.write(\"sdf\", \"tmp.sdf\", overwrite=True)\n",
        "    rdmol = next(iter(Chem.SDMolSupplier(\"tmp.sdf\")))\n",
        "    display(rdmol)\n",
        "    if os.path.exists(\"tmp.sdf\"):\n",
        "        os.remove(\"tmp.sdf\")\n",
        "    print(\"\\n\")"
      ]
    },
    {
      "cell_type": "code",
      "execution_count": null,
      "metadata": {
        "id": "cVtdy-Fyvta3"
      },
      "outputs": [],
      "source": []
    }
  ],
  "metadata": {
    "accelerator": "GPU",
    "colab": {
      "gpuType": "T4",
      "provenance": []
    },
    "kernelspec": {
      "display_name": "Python 3",
      "name": "python3"
    },
    "language_info": {
      "name": "python"
    }
  },
  "nbformat": 4,
  "nbformat_minor": 0
}
