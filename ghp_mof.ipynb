{
  "cells": [
    {
      "attachments": {},
      "cell_type": "markdown",
      "metadata": {
        "id": "r77hUsf6w1o4"
      },
      "source": [
        "## Install necessary packages"
      ]
    },
    {
      "cell_type": "code",
      "execution_count": null,
      "metadata": {
        "id": "6nt3ZtFRp7RN"
      },
      "outputs": [],
      "source": [
        "!pip install -q condacolab\n",
        "import condacolab\n",
        "condacolab.install()\n",
        "exit()\n",
        "import torch\n",
        "!pip uninstall torch -y\n",
        "!conda install -c conda-forge pymatgen rdkit openbabel -y\n",
        "!pip install torch==1.13.1+cu117 --extra-index-url https://download.pytorch.org/whl/cu117\n",
        "!pip install pyg_lib torch_scatter torch_sparse torch_cluster torch_spline_conv -f https://data.pyg.org/whl/torch-1.13.0+cu117.html\n",
        "!pip install torch_geometric\n",
        "exit()\n",
        "!pip install torchmetrics tqdm transformers wandb apex curtsies fairscale imageio joblib Pillow pytorch_lightning PyYAML ray scikit-learn ipykernel docopt\n",
        "!pip install git+https://github.com/tensorflow/docs\n",
        "exit()"
      ]
    },
    {
      "attachments": {},
      "cell_type": "markdown",
      "metadata": {
        "id": "UgbJZi7zw9lN"
      },
      "source": [
        "## Clone GHP-MOFAssembly Github repository"
      ]
    },
    {
      "cell_type": "code",
      "execution_count": null,
      "metadata": {
        "id": "rXryDXmgrIKb"
      },
      "outputs": [],
      "source": [
        "!git clone https://github.com/hyunp2/ghp_mof.git\n",
        "exit()"
      ]
    },
    {
      "attachments": {},
      "cell_type": "markdown",
      "metadata": {
        "id": "_Qw3zKgnxTN4"
      },
      "source": [
        "## Generate new MOF structures\n",
        "In this example, we generate a total of 4000 Cu paddlewheel MOFs at four catenation levels (cat0/cat1/cat2/cat3 1000 each)"
      ]
    },
    {
      "cell_type": "code",
      "execution_count": null,
      "metadata": {
        "id": "bbs6gFThxGvs"
      },
      "outputs": [],
      "source": [
        "!cd ghp_mof && git pull && bash generate_mofs.sh\n",
        "exit()"
      ]
    },
    {
      "attachments": {},
      "cell_type": "markdown",
      "metadata": {
        "id": "3sLma37uGjc3"
      },
      "source": [
        "## Predict the CO2 capacities of generated MOF structures using the modified version of CGCNN model"
      ]
    },
    {
      "cell_type": "code",
      "execution_count": null,
      "metadata": {
        "id": "4bH6zenFs5kn"
      },
      "outputs": [],
      "source": [
        "!cd ghp_mof && git pull && python -m main \\\n",
        "--which_mode infer \\\n",
        "--dataset cifdata \\\n",
        "--backbone cgcnn \\\n",
        "--batch_size 2 \\\n",
        "--load_ckpt_path models \\\n",
        "--name cgcnn_pub_hmof_0.1 \\\n",
        "--gpu \\\n",
        "--train_frac 1 \\\n",
        "--data_dir_crystal MOFs/MOFs_all \\\n",
        "--ensemble_names cgcnn_pub_hmof_0.1 cgcnn_pub_hmof_0.1_dgx cgcnn_pub_hmof_0.1_v2\n",
        "exit()"
      ]
    },
    {
      "cell_type": "code",
      "execution_count": null,
      "metadata": {
        "id": "A_Kpn7Wys7M-"
      },
      "outputs": [],
      "source": [
        "# remove dummy column\n",
        "import pandas as pd\n",
        "predictions = pd.read_csv(\"ghp_mof/publication_figures/ensemble_property_prediction.csv\", index_col=0)\n",
        "predictions = predictions.drop(['real'],axis=1)\n",
        "predictions.to_csv('ghp_mof/publication_figures/ensemble_property_prediction.csv',index=False)\n",
        "exit()"
      ]
    },
    {
      "attachments": {},
      "cell_type": "markdown",
      "metadata": {},
      "source": [
        "## Analysis"
      ]
    },
    {
      "cell_type": "code",
      "execution_count": null,
      "metadata": {},
      "outputs": [],
      "source": [
        "!cd ghp_mof && git pull && python analyze_hMOF.py\n",
        "exit()"
      ]
    },
    {
      "cell_type": "code",
      "execution_count": null,
      "metadata": {},
      "outputs": [],
      "source": [
        "!cd ghp_mof && git pull && python analyze_regression_model.py\n",
        "exit()"
      ]
    },
    {
      "cell_type": "code",
      "execution_count": null,
      "metadata": {},
      "outputs": [],
      "source": [
        "!cd ghp_mof && git pull && python evaluate_linkers.py\n",
        "exit()"
      ]
    },
    {
      "attachments": {},
      "cell_type": "markdown",
      "metadata": {
        "id": "lu0Z5qB_GJrG"
      },
      "source": [
        "### Optional: Visualization of linker generation process using DiffLinker"
      ]
    },
    {
      "cell_type": "code",
      "execution_count": null,
      "metadata": {
        "id": "rooMmSAys9FZ"
      },
      "outputs": [],
      "source": [
        "# sample difflinker\n",
        "!cd ghp_mof/DiffLinker && git pull && python -W ignore difflinker_sample_and_analyze.py \\\n",
        "--fragments geom/datasets/geom_multifrag_test_frag.sdf \\\n",
        "--model checkpoints/geom_difflinker.ckpt \\\n",
        "--linker_size checkpoints/geom_size_gnn.ckpt \\\n",
        "--output geom/output \\\n",
        "--samples_dir geom/samples\n",
        "exit()"
      ]
    },
    {
      "cell_type": "code",
      "execution_count": null,
      "metadata": {
        "id": "CaZdaycus-ou"
      },
      "outputs": [],
      "source": [
        "import os, base64, tempfile\n",
        "from openbabel.pybel import readfile\n",
        "from rdkit import Chem\n",
        "from rdkit.Chem import Draw\n",
        "from rdkit.Chem.Draw import IPythonConsole\n",
        "from IPython.display import HTML\n",
        "IPythonConsole.ipython_useSVG=True\n",
        "\n",
        "workdir = \"ghp_mof/DiffLinker\"\n",
        "samples_dir = os.path.join(workdir, \"geom/samples\")\n",
        "output_dir = os.path.join(workdir, \"geom/output\")\n",
        "mol_ids = [int(x.replace(\"mol_\", \"\")) for x in os.listdir(samples_dir) if os.path.isdir(os.path.join(samples_dir, x))]\n",
        "for mol_id in mol_ids:\n",
        "    mol = \"mol_\" + str(mol_id)\n",
        "    gif_path = os.path.join(samples_dir, mol, \"output.gif\")\n",
        "    print(gif_path)\n",
        "    b64 = base64.b64encode(open(gif_path,'rb').read()).decode('ascii')\n",
        "    display(HTML(f'<img src=\"data:image/gif;base64,{b64}\" />'))\n",
        "\n",
        "    xyz = \"output_\" + str(mol_id) + \"_geom_multifrag_test_frag_.xyz\"\n",
        "    print(os.path.join(output_dir, xyz))\n",
        "    mol = list(readfile(\"xyz\", os.path.join(output_dir, xyz)))[-1]\n",
        "\n",
        "    mol.write(\"sdf\", \"tmp.sdf\", overwrite=True)\n",
        "    rdmol = next(iter(Chem.SDMolSupplier(\"tmp.sdf\")))\n",
        "    display(rdmol)\n",
        "    if os.path.exists(\"tmp.sdf\"):\n",
        "        os.remove(\"tmp.sdf\")\n",
        "    print(\"\\n\")\n",
        "exit()"
      ]
    },
    {
      "cell_type": "code",
      "execution_count": null,
      "metadata": {
        "id": "cVtdy-Fyvta3"
      },
      "outputs": [],
      "source": []
    }
  ],
  "metadata": {
    "accelerator": "GPU",
    "colab": {
      "gpuType": "T4",
      "provenance": []
    },
    "kernelspec": {
      "display_name": "Python 3",
      "name": "python3"
    },
    "language_info": {
      "codemirror_mode": {
        "name": "ipython",
        "version": 3
      },
      "file_extension": ".py",
      "mimetype": "text/x-python",
      "name": "python",
      "nbconvert_exporter": "python",
      "pygments_lexer": "ipython3",
      "version": "3.8.8"
    }
  },
  "nbformat": 4,
  "nbformat_minor": 0
}
