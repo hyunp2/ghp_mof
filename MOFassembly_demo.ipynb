{
 "cells": [
  {
   "cell_type": "code",
   "execution_count": 1,
   "metadata": {},
   "outputs": [],
   "source": [
    "import subprocess"
   ]
  },
  {
   "cell_type": "code",
   "execution_count": null,
   "metadata": {},
   "outputs": [],
   "source": [
    "# Step 1 - Fragment linkers in high-performing MOF structures into molecular fragments (~30 mins)\n",
    "subprocess.run('python 1_fragmentation.py',shell=True)\n",
    "\n",
    "# Step 2 - Fragment into linkers\n",
    "subprocess.run('python 2_generate_frag_sdf.py',shell=True)\n",
    "\n",
    "# Step 3 - Sample new MOF linkers using DiffLinker (Execution time varies)\n",
    "# This step requires GPU\n",
    "subprocess.run('python 3_difflinker.py',shell=True)\n",
    "\n",
    "# Step 4 - Convert to full and dummy atoms\n",
    "# This step requires Open Babel to be installed\n",
    "subprocess.run('python 4_xyz2assemble.py',shell=True)\n",
    "\n",
    "# Step 5 - Remove linkers with S, P and I elements\n",
    "subprocess.run('python 5_remove_undesired_linkers.py',shell=True)\n",
    "\n",
    "# Step 6 - Assemble generated linkers with metal node (Cu paddlewheel/Zn paddlewheel/ Zn tetramer) in pcu topology\n",
    "subprocess.run('python 6_assemble.py',shell=True)\n",
    "\n",
    "# Step 7 - Gather all MOFs and generate catenated MOFs at four catenation levels (cat0/cat1/cat2/cat3)\n",
    "subprocess.run('python 7_gather_mofs_catenate.py',shell=True)\n",
    "\n",
    "# Step 8 - Remove invalid structures that cannot be read by pymatgen\n",
    "subprocess.run('python 8_remove invalid structures.py',shell=True)\n",
    "\n",
    "# Step 9 - Prepare necessary files for making predictions using the modified version of cgcnn model\n",
    "subprocess.run('python 9_prep_for_regression.py',shell=True)"
   ]
  }
 ],
 "metadata": {
  "kernelspec": {
   "display_name": "base",
   "language": "python",
   "name": "python3"
  },
  "language_info": {
   "codemirror_mode": {
    "name": "ipython",
    "version": 3
   },
   "file_extension": ".py",
   "mimetype": "text/x-python",
   "name": "python",
   "nbconvert_exporter": "python",
   "pygments_lexer": "ipython3",
   "version": "3.8.8"
  },
  "orig_nbformat": 4
 },
 "nbformat": 4,
 "nbformat_minor": 2
}
