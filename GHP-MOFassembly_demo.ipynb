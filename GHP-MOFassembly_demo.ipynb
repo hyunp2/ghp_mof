{
 "cells": [
  {
   "cell_type": "code",
   "execution_count": 1,
   "metadata": {},
   "outputs": [],
   "source": [
    "import subprocess"
   ]
  },
  {
   "cell_type": "code",
   "execution_count": null,
   "metadata": {},
   "outputs": [],
   "source": [
    "# Step 1 - Fragment linkers in high-performing MOF structures into molecular fragments\n",
    "subprocess.run('python 0_fragmentation.py',shell=True)\n",
    "# Step 2 - Fragment into linkers\n",
    "subprocess.run('python 0_fragmentation.py',shell=True)"
   ]
  },
  {
   "cell_type": "code",
   "execution_count": 3,
   "metadata": {},
   "outputs": [
    {
     "name": "stderr",
     "output_type": "stream",
     "text": [
      "110760it [00:04, 26860.57it/s]\n"
     ]
    },
    {
     "name": "stdout",
     "output_type": "stream",
     "text": [
      "node occurance:\n",
      "                      node   freq\n",
      "0                 [Zn][Zn]  28529\n",
      "1                 [Cu][Cu]  29714\n",
      "2  [Zn][O]([Zn])([Zn])[Zn]  43874\n",
      "3                      [V]   5197\n",
      "4               [O][V]O[V]     46\n",
      "Now on node ZnZn ... \n"
     ]
    },
    {
     "name": "stderr",
     "output_type": "stream",
     "text": [
      "0_fragmentation.py:73: SettingWithCopyWarning: \n",
      "A value is trying to be set on a copy of a slice from a DataFrame.\n",
      "Try using .loc[row_indexer,col_indexer] = value instead\n",
      "\n",
      "See the caveats in the documentation: https://pandas.pydata.org/pandas-docs/stable/user_guide/indexing.html#returning-a-view-versus-a-copy\n",
      "  df_high_wc['len_linkers'] = len_linkers\n",
      "  0%|          | 7/3221 [00:00<00:53, 60.32it/s]"
     ]
    },
    {
     "name": "stdout",
     "output_type": "stream",
     "text": [
      "number of smiles: 4072\n",
      "number of unique_smiles: 3221\n",
      "Outputting conformers to sdf ... \n"
     ]
    },
    {
     "name": "stderr",
     "output_type": "stream",
     "text": [
      "[15:25:29] Explicit valence for atom # 3 N, 4, is greater than permitted\n",
      "  1%|          | 35/3221 [00:01<02:08, 24.75it/s][15:25:30] Explicit valence for atom # 1 N, 4, is greater than permitted\n",
      "[15:25:30] Explicit valence for atom # 15 N, 4, is greater than permitted\n",
      "  5%|▌         | 171/3221 [00:05<01:05, 46.83it/s][15:25:35] Explicit valence for atom # 1 N, 4, is greater than permitted\n",
      "  7%|▋         | 241/3221 [00:07<00:47, 63.40it/s][15:25:36] Explicit valence for atom # 13 N, 4, is greater than permitted\n",
      "  8%|▊         | 253/3221 [00:07<00:39, 75.68it/s][15:25:36] Explicit valence for atom # 1 N, 4, is greater than permitted\n",
      "  8%|▊         | 268/3221 [00:07<00:50, 58.98it/s][15:25:36] Explicit valence for atom # 10 N, 4, is greater than permitted\n",
      "  9%|▉         | 305/3221 [00:08<00:54, 53.73it/s][15:25:37] Explicit valence for atom # 24 N, 4, is greater than permitted\n",
      " 15%|█▍        | 478/3221 [01:53<02:13, 20.61it/s][15:27:22] Explicit valence for atom # 4 N, 4, is greater than permitted\n",
      " 16%|█▌        | 500/3221 [01:54<01:27, 31.15it/s][15:27:23] Explicit valence for atom # 14 N, 4, is greater than permitted\n",
      "[15:27:23] Explicit valence for atom # 8 N, 4, is greater than permitted\n",
      " 17%|█▋        | 536/3221 [01:54<00:53, 50.35it/s][15:27:24] Explicit valence for atom # 2 N, 4, is greater than permitted\n",
      " 17%|█▋        | 542/3221 [01:55<00:55, 48.60it/s][15:27:24] Explicit valence for atom # 3 N, 4, is greater than permitted\n",
      " 23%|██▎       | 725/3221 [02:00<01:02, 40.01it/s][15:27:29] Explicit valence for atom # 35 N, 4, is greater than permitted\n",
      " 26%|██▋       | 846/3221 [02:03<01:02, 38.18it/s][15:27:33] Explicit valence for atom # 3 N, 4, is greater than permitted\n",
      " 27%|██▋       | 858/3221 [02:03<00:44, 52.74it/s][15:27:33] Explicit valence for atom # 2 N, 4, is greater than permitted\n",
      " 30%|███       | 968/3221 [02:05<00:45, 49.27it/s][15:27:35] Explicit valence for atom # 11 N, 4, is greater than permitted\n",
      " 35%|███▍      | 1114/3221 [02:09<00:54, 38.67it/s][15:27:38] Explicit valence for atom # 1 N, 4, is greater than permitted\n",
      "[15:27:38] Explicit valence for atom # 1 N, 4, is greater than permitted\n",
      " 42%|████▏     | 1356/3221 [02:20<01:53, 16.47it/s][15:27:49] Explicit valence for atom # 13 N, 4, is greater than permitted\n",
      " 49%|████▉     | 1589/3221 [02:40<00:22, 72.34it/s][15:28:10] Explicit valence for atom # 25 N, 4, is greater than permitted\n",
      " 50%|█████     | 1621/3221 [02:41<00:38, 41.57it/s][15:28:11] Explicit valence for atom # 5 N, 4, is greater than permitted\n",
      " 52%|█████▏    | 1664/3221 [02:42<00:31, 49.73it/s][15:28:11] Explicit valence for atom # 10 N, 4, is greater than permitted\n",
      " 56%|█████▌    | 1807/3221 [02:46<00:29, 48.44it/s][15:28:15] Explicit valence for atom # 1 N, 4, is greater than permitted\n",
      " 56%|█████▋    | 1813/3221 [02:46<00:27, 50.61it/s][15:28:15] Explicit valence for atom # 3 N, 4, is greater than permitted\n",
      "[15:28:15] Explicit valence for atom # 15 N, 4, is greater than permitted\n",
      " 59%|█████▉    | 1894/3221 [02:49<00:36, 36.48it/s][15:28:18] Explicit valence for atom # 5 N, 4, is greater than permitted\n",
      " 59%|█████▉    | 1900/3221 [02:49<00:33, 39.71it/s][15:28:19] Explicit valence for atom # 11 N, 4, is greater than permitted\n",
      " 63%|██████▎   | 2017/3221 [03:05<16:30,  1.22it/s][15:28:34] Explicit valence for atom # 3 N, 4, is greater than permitted\n",
      " 65%|██████▍   | 2082/3221 [03:07<00:46, 24.45it/s][15:28:37] Explicit valence for atom # 11 N, 4, is greater than permitted\n",
      " 65%|██████▌   | 2099/3221 [03:08<00:35, 31.41it/s][15:28:37] Explicit valence for atom # 19 N, 4, is greater than permitted\n",
      " 66%|██████▌   | 2115/3221 [03:09<00:42, 26.33it/s][15:28:38] Explicit valence for atom # 14 N, 4, is greater than permitted\n",
      " 67%|██████▋   | 2146/3221 [03:09<00:30, 35.56it/s][15:28:39] Explicit valence for atom # 3 N, 4, is greater than permitted\n",
      " 68%|██████▊   | 2187/3221 [03:11<00:38, 27.09it/s][15:28:40] Explicit valence for atom # 4 N, 4, is greater than permitted\n",
      " 69%|██████▊   | 2210/3221 [03:11<00:24, 41.79it/s][15:28:41] Explicit valence for atom # 31 N, 4, is greater than permitted\n",
      "[15:28:41] Explicit valence for atom # 33 N, 4, is greater than permitted\n",
      " 69%|██████▉   | 2225/3221 [03:12<00:23, 43.08it/s][15:28:41] Explicit valence for atom # 9 C, 5, is greater than permitted\n",
      " 71%|███████   | 2278/3221 [03:14<00:43, 21.86it/s][15:28:43] Explicit valence for atom # 8 C, 5, is greater than permitted\n",
      " 72%|███████▏  | 2325/3221 [03:15<00:26, 33.24it/s][15:28:45] Explicit valence for atom # 16 N, 4, is greater than permitted\n",
      " 74%|███████▍  | 2379/3221 [03:17<00:19, 42.54it/s][15:28:46] Explicit valence for atom # 2 N, 4, is greater than permitted\n",
      " 75%|███████▍  | 2414/3221 [03:18<00:24, 32.90it/s][15:28:47] Explicit valence for atom # 23 N, 4, is greater than permitted\n",
      " 77%|███████▋  | 2496/3221 [03:20<00:23, 30.53it/s][15:28:49] Explicit valence for atom # 7 N, 4, is greater than permitted\n",
      " 78%|███████▊  | 2521/3221 [03:20<00:12, 56.18it/s][15:28:49] Explicit valence for atom # 22 N, 4, is greater than permitted\n",
      " 78%|███████▊  | 2528/3221 [03:20<00:15, 46.09it/s][15:28:49] Explicit valence for atom # 5 N, 4, is greater than permitted\n",
      " 80%|███████▉  | 2561/3221 [03:21<00:14, 44.33it/s][15:28:50] Explicit valence for atom # 4 N, 4, is greater than permitted\n",
      " 81%|████████  | 2609/3221 [03:22<00:11, 51.11it/s][15:28:51] Explicit valence for atom # 20 N, 4, is greater than permitted\n",
      " 83%|████████▎ | 2660/3221 [03:24<00:21, 26.21it/s][15:28:53] Explicit valence for atom # 3 N, 4, is greater than permitted\n",
      " 87%|████████▋ | 2799/3221 [03:32<00:18, 22.89it/s][15:29:02] Explicit valence for atom # 19 N, 4, is greater than permitted\n",
      " 87%|████████▋ | 2809/3221 [03:32<00:11, 36.42it/s][15:29:02] Explicit valence for atom # 16 N, 4, is greater than permitted\n",
      " 88%|████████▊ | 2822/3221 [03:33<00:10, 39.32it/s][15:29:02] Explicit valence for atom # 5 N, 4, is greater than permitted\n",
      " 88%|████████▊ | 2833/3221 [03:33<00:12, 32.26it/s][15:29:02] Explicit valence for atom # 1 N, 4, is greater than permitted\n",
      " 89%|████████▉ | 2871/3221 [03:38<00:26, 13.35it/s][15:29:07] Explicit valence for atom # 3 N, 4, is greater than permitted\n",
      " 90%|█████████ | 2899/3221 [03:38<00:10, 31.64it/s][15:29:08] Explicit valence for atom # 18 N, 4, is greater than permitted\n",
      " 91%|█████████ | 2926/3221 [03:39<00:05, 52.84it/s][15:29:08] Explicit valence for atom # 9 N, 4, is greater than permitted\n",
      " 95%|█████████▍| 3054/3221 [03:56<00:18,  9.20it/s][15:29:25] Explicit valence for atom # 25 N, 4, is greater than permitted\n",
      " 97%|█████████▋| 3139/3221 [04:00<00:05, 13.96it/s][15:29:29] Explicit valence for atom # 2 N, 4, is greater than permitted\n",
      "100%|█████████▉| 3209/3221 [04:01<00:00, 33.68it/s][15:29:31] Explicit valence for atom # 40 N, 4, is greater than permitted\n",
      "100%|██████████| 3221/3221 [04:02<00:00, 13.30it/s]\n"
     ]
    },
    {
     "name": "stdout",
     "output_type": "stream",
     "text": [
      "Generating SMILES ... \n"
     ]
    },
    {
     "name": "stderr",
     "output_type": "stream",
     "text": [
      "Traceback (most recent call last):\n",
      "  File \"utils/prepare_data_from_sdf.py\", line 19, in <module>\n",
      "    from docopt import docopt\n",
      "ModuleNotFoundError: No module named 'docopt'\n"
     ]
    },
    {
     "name": "stdout",
     "output_type": "stream",
     "text": [
      "Now on node CuCu ... \n"
     ]
    },
    {
     "name": "stderr",
     "output_type": "stream",
     "text": [
      "0_fragmentation.py:73: SettingWithCopyWarning: \n",
      "A value is trying to be set on a copy of a slice from a DataFrame.\n",
      "Try using .loc[row_indexer,col_indexer] = value instead\n",
      "\n",
      "See the caveats in the documentation: https://pandas.pydata.org/pandas-docs/stable/user_guide/indexing.html#returning-a-view-versus-a-copy\n",
      "  df_high_wc['len_linkers'] = len_linkers\n",
      "  0%|          | 5/3330 [00:00<01:21, 40.61it/s]"
     ]
    },
    {
     "name": "stdout",
     "output_type": "stream",
     "text": [
      "number of smiles: 4377\n",
      "number of unique_smiles: 3330\n",
      "Outputting conformers to sdf ... \n"
     ]
    },
    {
     "name": "stderr",
     "output_type": "stream",
     "text": [
      "  0%|          | 11/3330 [00:00<01:09, 47.62it/s][15:29:39] Explicit valence for atom # 3 N, 4, is greater than permitted\n",
      "  5%|▌         | 170/3330 [00:03<01:08, 46.12it/s][15:29:42] Explicit valence for atom # 5 N, 4, is greater than permitted\n",
      "  7%|▋         | 238/3330 [00:04<00:46, 65.90it/s][15:29:43] Explicit valence for atom # 11 N, 4, is greater than permitted\n",
      "  9%|▉         | 293/3330 [00:06<00:56, 53.72it/s][15:29:44] Explicit valence for atom # 1 N, 4, is greater than permitted\n",
      " 10%|█         | 342/3330 [00:07<01:25, 34.97it/s][15:29:46] Explicit valence for atom # 12 N, 4, is greater than permitted\n",
      " 13%|█▎        | 440/3330 [00:09<00:51, 56.61it/s][15:29:48] Explicit valence for atom # 14 N, 4, is greater than permitted\n",
      " 14%|█▎        | 454/3330 [00:09<00:48, 59.60it/s][15:29:48] Explicit valence for atom # 16 N, 4, is greater than permitted\n",
      "[15:29:48] Explicit valence for atom # 2 N, 4, is greater than permitted\n",
      " 18%|█▊        | 603/3330 [01:18<01:48, 25.12it/s][15:30:57] Explicit valence for atom # 4 N, 4, is greater than permitted\n",
      " 20%|██        | 677/3330 [01:19<01:06, 40.11it/s][15:30:58] Explicit valence for atom # 13 N, 4, is greater than permitted\n",
      " 23%|██▎       | 769/3330 [01:22<00:51, 49.78it/s][15:31:00] Explicit valence for atom # 5 N, 4, is greater than permitted\n",
      " 27%|██▋       | 909/3330 [01:27<01:08, 35.49it/s][15:31:06] Explicit valence for atom # 10 N, 4, is greater than permitted\n",
      "[15:31:06] Explicit valence for atom # 10 N, 4, is greater than permitted\n",
      " 28%|██▊       | 925/3330 [01:27<00:47, 50.58it/s][15:31:06] Explicit valence for atom # 3 N, 4, is greater than permitted\n",
      " 29%|██▉       | 959/3330 [01:28<01:36, 24.67it/s][15:31:07] Explicit valence for atom # 17 N, 4, is greater than permitted\n",
      " 33%|███▎      | 1083/3330 [01:32<01:08, 32.57it/s][15:31:11] Explicit valence for atom # 17 N, 4, is greater than permitted\n",
      " 34%|███▍      | 1132/3330 [01:34<00:52, 41.79it/s][15:31:13] Explicit valence for atom # 3 N, 4, is greater than permitted\n",
      " 36%|███▌      | 1203/3330 [01:37<00:46, 45.47it/s][15:31:16] Explicit valence for atom # 2 N, 4, is greater than permitted\n",
      " 39%|███▉      | 1291/3330 [01:40<00:40, 50.41it/s][15:31:18] Explicit valence for atom # 14 N, 4, is greater than permitted\n",
      " 42%|████▏     | 1386/3330 [02:27<01:16, 25.55it/s][15:32:06] Explicit valence for atom # 5 N, 4, is greater than permitted\n",
      " 48%|████▊     | 1583/3330 [02:32<00:43, 40.11it/s][15:32:11] Explicit valence for atom # 11 N, 4, is greater than permitted\n",
      " 48%|████▊     | 1609/3330 [02:33<01:35, 18.04it/s][15:32:12] Explicit valence for atom # 4 N, 4, is greater than permitted\n",
      " 49%|████▊     | 1616/3330 [02:34<01:38, 17.33it/s][15:32:12] Explicit valence for atom # 6 N, 4, is greater than permitted\n",
      " 50%|█████     | 1671/3330 [02:39<04:33,  6.06it/s][15:32:18] Explicit valence for atom # 2 N, 4, is greater than permitted\n",
      " 53%|█████▎    | 1761/3330 [02:41<00:37, 42.24it/s][15:32:20] Explicit valence for atom # 9 N, 4, is greater than permitted\n",
      " 60%|██████    | 1998/3330 [03:04<00:31, 42.74it/s][15:32:43] Explicit valence for atom # 1 N, 4, is greater than permitted\n",
      " 62%|██████▏   | 2079/3330 [03:07<00:40, 30.79it/s][15:32:45] Explicit valence for atom # 3 N, 4, is greater than permitted\n",
      " 65%|██████▌   | 2174/3330 [03:09<00:29, 39.63it/s][15:32:48] Explicit valence for atom # 3 N, 4, is greater than permitted\n",
      " 67%|██████▋   | 2235/3330 [03:11<00:43, 25.19it/s][15:32:50] Explicit valence for atom # 6 N, 4, is greater than permitted\n",
      " 68%|██████▊   | 2276/3330 [03:12<00:24, 43.35it/s][15:32:51] Explicit valence for atom # 18 N, 4, is greater than permitted\n",
      " 69%|██████▉   | 2303/3330 [03:13<00:29, 35.40it/s][15:32:52] Explicit valence for atom # 13 N, 4, is greater than permitted\n",
      " 71%|███████   | 2349/3330 [03:43<03:16,  5.00it/s]"
     ]
    }
   ],
   "source": [
    "# remove after finish\n",
    "subprocess.run('python 0_fragmentation.py',shell=True)"
   ]
  },
  {
   "cell_type": "code",
   "execution_count": null,
   "metadata": {},
   "outputs": [],
   "source": []
  }
 ],
 "metadata": {
  "kernelspec": {
   "display_name": "base",
   "language": "python",
   "name": "python3"
  },
  "language_info": {
   "codemirror_mode": {
    "name": "ipython",
    "version": 3
   },
   "file_extension": ".py",
   "mimetype": "text/x-python",
   "name": "python",
   "nbconvert_exporter": "python",
   "pygments_lexer": "ipython3",
   "version": "3.8.8"
  },
  "orig_nbformat": 4
 },
 "nbformat": 4,
 "nbformat_minor": 2
}
